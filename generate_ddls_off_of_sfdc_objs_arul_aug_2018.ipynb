{
 "cells": [
  {
   "cell_type": "code",
   "execution_count": 50,
   "metadata": {},
   "outputs": [],
   "source": [
    "from simple_salesforce import Salesforce\n",
    "\n",
    "import pandas as pd\n",
    "\n",
    "USER='***'\n",
    "PWD='***'\n",
    "token='***'\n"
   ]
  },
  {
   "cell_type": "code",
   "execution_count": 51,
   "metadata": {},
   "outputs": [],
   "source": [
    "# to access UAT set the sandbox true option\n",
    "sf = Salesforce(username=USER, password=PWD, security_token=token, sandbox=True)"
   ]
  },
  {
   "cell_type": "code",
   "execution_count": 52,
   "metadata": {},
   "outputs": [],
   "source": [
    "# (1) Set data type mapping\n",
    "mapping =\\\n",
    "{'id':'varchar',\\\n",
    "'boolean':'bool',\\\n",
    "'reference':'varchar',\\\n",
    "'string':'varchar',\\\n",
    "'picklist':'varchar',\\\n",
    "'textarea':'varchar',\\\n",
    "'double':'decimal',\\\n",
    "'phone':'varchar',\\\n",
    "'url':'varchar',\\\n",
    "'currency':'double',\\\n",
    "'int':'int',\\\n",
    "'datetime':'timestamp',\\\n",
    "'date':'timestamp',\\\n",
    "'email':'varchar',\\\n",
    "'multipicklist':'varchar',\\\n",
    "'percent':'decimal',\\\n",
    "'decimal':'decimal',\\\n",
    "'long':'bigint',\\\n",
    "'address':'varchar',\\\n",
    "'masterrecord':'varchar',\\\n",
    "'location':'varchar',\\\n",
    "'encryptedstring':'varchar'}"
   ]
  },
  {
   "cell_type": "code",
   "execution_count": 53,
   "metadata": {},
   "outputs": [],
   "source": [
    "# (4) Size paramter set\n",
    "def set_parameter(column_type, record):\n",
    "    '''Takes column type and json record to determine column length/ percision'''\n",
    "    param = ''\n",
    "    if column_type == 'varchar' or column_type == 'Unknown':\n",
    "        param = \"(\" + str(record['length']) + \")\"\n",
    "    elif column_type == 'decimal':\n",
    "        param = \"(\" + str(record['precision']) + \",\" + str(record['scale']) + \")\"\n",
    "    else:\n",
    "        param = ''\n",
    "    return param"
   ]
  },
  {
   "cell_type": "code",
   "execution_count": 54,
   "metadata": {},
   "outputs": [],
   "source": [
    "# (5) Set Primary Key \n",
    "def set_primary_key(column_name):\n",
    "    '''If id, then add primary key'''\n",
    "    param = ''\n",
    "    if column_name == 'id':\n",
    "        param = 'Primary Key'\n",
    "    else:\n",
    "        param = ''\n",
    "    return param"
   ]
  },
  {
   "cell_type": "code",
   "execution_count": 55,
   "metadata": {},
   "outputs": [],
   "source": [
    "# (6) Mapping function\n",
    "import json\n",
    "import sys\n",
    "\n",
    "def map_columns (json_data):\n",
    "    ''' Takes json data from rest API and convert to Postgres Create Table Statement '''\n",
    "    field_list = []\n",
    "    counter = 1\n",
    "    for record in json_data['fields']:\n",
    "        tmp = []\n",
    "        column_name = record['name'].lower()\n",
    "        try:\n",
    "            column_type = mapping[record['type'].lower()]\n",
    "        except:\n",
    "            column_type = 'Unknown'\n",
    "        column_param = set_parameter(column_type, record)\n",
    "        primary_key_param = set_primary_key(column_name)\n",
    "\n",
    "        tmp.append(column_name)\n",
    "        tmp.append(column_type)\n",
    "        tmp.append(column_param)\n",
    "        tmp.append(primary_key_param)\n",
    "        counter += 1\n",
    "        if counter <= len(json_data['fields']):\n",
    "            tmp.append(\",\")\n",
    "        field_list.append(tmp)\n",
    "    return field_list\n",
    "\n"
   ]
  },
  {
   "cell_type": "code",
   "execution_count": 56,
   "metadata": {},
   "outputs": [],
   "source": [
    "\n",
    "from string import Template\n",
    "t = Template('''grant select on staging.$tablename to readonly_user; \n",
    "grant select on staging.$tablename to tabapp_user;\n",
    "''')"
   ]
  },
  {
   "cell_type": "code",
   "execution_count": 57,
   "metadata": {},
   "outputs": [],
   "source": [
    "def create_ddl(object_name):\n",
    "    md = sf.restful(\"sobjects/{}/describe/\".format(object_name), params=None)\n",
    "    field_list = map_columns(md)\n",
    "    tablename = object_name.lower()\n",
    "    ddlfile = tablename + \".sql\"\n",
    "    with open(ddlfile, \"w\") as f:\n",
    "        f.write('Create Table staging.{} (\\n'.format(tablename))\n",
    "        for row in field_list:\n",
    "            f.write(' '.join(tuple(row)) +'\\n')\n",
    "        f.write(');\\n')\n",
    "        f.write(t.substitute(tablename=tablename))\n",
    "\n",
    "#         tablename = object_name.lower()\n",
    "#         f.write(users_grants.format(tablename))"
   ]
  },
  {
   "cell_type": "code",
   "execution_count": 58,
   "metadata": {},
   "outputs": [],
   "source": [
    "objectnamesraw = '''DMAPP__Account_Plan_Unit_Insight_Map__c\n",
    "DMAPP__AM_Plan_Team__c\n",
    "DMAPP__AM_Plan_Metric_Score__c\n",
    "DMAPP__Account_Insight_Map__c\n",
    "DMAPP__Account_Insight_Map_Node__c\n",
    "DMAPP__Account_Insight_Map_Node_Parent__c'''"
   ]
  },
  {
   "cell_type": "code",
   "execution_count": 59,
   "metadata": {},
   "outputs": [],
   "source": [
    "objectnames=objectnamesraw.split('\\n')"
   ]
  },
  {
   "cell_type": "code",
   "execution_count": 60,
   "metadata": {},
   "outputs": [
    {
     "data": {
      "text/plain": [
       "['DMAPP__Account_Plan_Unit_Insight_Map__c',\n",
       " 'DMAPP__AM_Plan_Team__c',\n",
       " 'DMAPP__AM_Plan_Metric_Score__c',\n",
       " 'DMAPP__Account_Insight_Map__c',\n",
       " 'DMAPP__Account_Insight_Map_Node__c',\n",
       " 'DMAPP__Account_Insight_Map_Node_Parent__c']"
      ]
     },
     "execution_count": 60,
     "metadata": {},
     "output_type": "execute_result"
    }
   ],
   "source": [
    "objectnames"
   ]
  },
  {
   "cell_type": "code",
   "execution_count": 61,
   "metadata": {},
   "outputs": [],
   "source": [
    "# object_name='DMAPP__DM_Account_Plan__c'\n",
    "for object_name in objectnames:\n",
    "    create_ddl(object_name)"
   ]
  },
  {
   "cell_type": "code",
   "execution_count": null,
   "metadata": {},
   "outputs": [],
   "source": []
  }
 ],
 "metadata": {
  "kernelspec": {
   "display_name": "Python [default]",
   "language": "python",
   "name": "python3"
  },
  "language_info": {
   "codemirror_mode": {
    "name": "ipython",
    "version": 3
   },
   "file_extension": ".py",
   "mimetype": "text/x-python",
   "name": "python",
   "nbconvert_exporter": "python",
   "pygments_lexer": "ipython3",
   "version": "3.6.4"
  }
 },
 "nbformat": 4,
 "nbformat_minor": 2
}
